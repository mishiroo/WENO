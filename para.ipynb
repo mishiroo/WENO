{
 "cells": [
  {
   "cell_type": "code",
   "execution_count": 2,
   "metadata": {},
   "outputs": [
    {
     "data": {
      "text/plain": [
       "np.float64(1.868245927)"
      ]
     },
     "execution_count": 2,
     "metadata": {},
     "output_type": "execute_result"
    }
   ],
   "source": [
    "import numpy as np\n",
    "import matplotlib.pyplot as plt\n",
    "\n",
    "A = np.array(\n",
    "    [\n",
    "        [1 / 3, -7 / 6, 11 / 6, 0, 0],\n",
    "        [0, -1 / 6, 5 / 6, 1 / 3, 0],\n",
    "        [0, 0, 1 / 3, 5 / 6, -1 / 6],\n",
    "    ]\n",
    ")\n",
    "d = np.array([1 / 10, 3 / 5, 3 / 10])\n",
    "\n",
    "B = np.array([1 / 30, -13 / 60, 47 / 60, 9 / 20, -1 / 20])\n",
    "# np.matmul(d, A) - B\n",
    "\n",
    "np.inner(d, [1.86814012, 1.86828304, 1.86820697]) "
   ]
  },
  {
   "cell_type": "markdown",
   "metadata": {},
   "source": [
    "# stencil的组合[y0, y1, y2]需要满足什么条件\n"
   ]
  },
  {
   "cell_type": "code",
   "execution_count": 3,
   "metadata": {},
   "outputs": [
    {
     "name": "stdout",
     "output_type": "stream",
     "text": [
      "[ 6.56361624e-05  6.98693312e-05  7.43755159e-05 -2.38053919e-07\n",
      " -2.53407090e-07  0.00000000e+00  2.22044605e-16  2.22044605e-16\n",
      " -2.22044605e-16  4.44089210e-16  0.00000000e+00  0.00000000e+00\n",
      " -4.44089210e-16  2.78647117e-07  2.96618304e-07 -1.44305500e-04\n",
      " -1.53612405e-04]\n"
     ]
    }
   ],
   "source": [
    "d3 = np.load(\"k=3加权结果.npy\")\n",
    "d5 = np.load(\"k=5加权结果.npy\")\n",
    "print(d3-d5)"
   ]
  },
  {
   "cell_type": "code",
   "execution_count": 3,
   "metadata": {},
   "outputs": [
    {
     "data": {
      "text/plain": [
       "0"
      ]
     },
     "execution_count": 3,
     "metadata": {},
     "output_type": "execute_result"
    }
   ],
   "source": [
    "a = []\n",
    "len(a)"
   ]
  },
  {
   "cell_type": "code",
   "execution_count": 1,
   "metadata": {},
   "outputs": [
    {
     "name": "stdout",
     "output_type": "stream",
     "text": [
      "2.7139860070142614\n",
      "2.718281828459045\n"
     ]
    }
   ],
   "source": [
    "import numpy as np\n",
    "\n",
    "C = np.array(\n",
    "    [\n",
    "        [1/3, 5/6, -1/6],\n",
    "        [-1/6, 5/6, 1/3],\n",
    "        [1/3, -7/6, 11/6],\n",
    "        [11/6, -7/6, 1/3],\n",
    "    ]\n",
    ")\n",
    "d = [3/10, 3/5, 1/10]\n",
    "\n",
    "# 测试系数组合\n",
    "A1 =(np.exp(0.2) - np.exp(0)) / 0.2\n",
    "B1 = (np.exp(0.4) - np.exp(0.2)) / 0.2\n",
    "C1 = (np.exp(0.6) - np.exp(0.4)) / 0.2\n",
    "D1 = (np.exp(0.8) - np.exp(0.6)) / 0.2\n",
    "E1 = (np.exp(1) - np.exp(0.8)) / 0.2\n",
    "\n",
    "print(np.inner(C[2], [C1, D1, E1]))\n",
    "print(np.exp(1))"
   ]
  },
  {
   "cell_type": "code",
   "execution_count": 9,
   "metadata": {},
   "outputs": [
    {
     "data": {
      "text/plain": [
       "np.int64(11)"
      ]
     },
     "execution_count": 9,
     "metadata": {},
     "output_type": "execute_result"
    }
   ],
   "source": [
    "np.inner([1,2],[3,4])"
   ]
  }
 ],
 "metadata": {
  "kernelspec": {
   "display_name": "PINNs",
   "language": "python",
   "name": "python3"
  },
  "language_info": {
   "codemirror_mode": {
    "name": "ipython",
    "version": 3
   },
   "file_extension": ".py",
   "mimetype": "text/x-python",
   "name": "python",
   "nbconvert_exporter": "python",
   "pygments_lexer": "ipython3",
   "version": "3.10.14"
  }
 },
 "nbformat": 4,
 "nbformat_minor": 2
}
